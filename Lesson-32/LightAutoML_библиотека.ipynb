{
 "cells": [
  {
   "cell_type": "markdown",
   "metadata": {},
   "source": [
    "# LightAutoML\n",
    "\n",
    "Это библиотека для автоматического машинного обучения (AutoML), которая предназначена для упрощения процесса построения и оптимизации моделей машинного обучения. Она позволяет пользователям создавать модели с минимальными усилиями и без глубоких знаний в области машинного обучения.\n",
    "\n",
    "Кроме того, библиотека позволяет автоматически строить модели машинного обучения для различных задач, например для бинарной классификации, мультиклассовой классификации и регрессии, на табличных данных (в том числе вещественных и категориальных данных, датах, текстах и даже изображениях). Этот инструмент позволяет сосредоточиться на важных задачах машинного обучения — генерации признаков, выборе метрик, определении целевой переменной и так далее..."
   ]
  },
  {
   "cell_type": "markdown",
   "metadata": {},
   "source": [
    "Как работает LightAutoML и какие ключевые функции она предоставляет:\n",
    "\n",
    "1. Автоматический выбор моделей: LightAutoML автоматически выбирает подходящие модели машинного обучения для задачи, основываясь на данных. Она включает в себя несколько популярных алгоритмов и может настраивать их параметры.\n",
    "\n",
    "2. Предобработка данных: Библиотека автоматически выполняет предварительную обработку данных, такую как заполнение пропущенных значений, нормализация, кодирование категориальных признаков и другие преобразования, необходимые для подготовки данных к обучению модели.\n",
    "\n",
    "3. Автоматическая настройка гиперпараметров: LightAutoML использует методы оптимизации гиперпараметров, такие как случайный поиск или сеточный поиск, для настройки параметров моделей, чтобы достичь наилучших результатов.\n",
    "\n",
    "4. Оценка моделей: Она предоставляет механизмы для оценки производительности различных моделей, включая использование кросс-валидации и метрик качества, таких как точность, F1-оценка и другие.\n",
    "\n",
    "5. Поддержка различных типов задач: LightAutoML поддерживает множество типов задач машинного обучения, включая классификацию, регрессию и другие задачи. Она может работать как с табличными данными, так и с текстовыми и временными рядами.\n",
    "\n",
    "Интерфейс: Библиотека предоставляет удобный интерфейс для работы с данными и моделями, что позволяет пользователям легко интегрировать её в свои проекты."
   ]
  },
  {
   "cell_type": "markdown",
   "metadata": {},
   "source": [
    "# Пример использования:"
   ]
  },
  {
   "cell_type": "markdown",
   "metadata": {},
   "source": [
    "## Скачать библиотеку можно с помощью команды:\n",
    "``` python\n",
    "    pip install -U lightautoml\n",
    "```"
   ]
  },
  {
   "cell_type": "code",
   "execution_count": 1,
   "metadata": {},
   "outputs": [
    {
     "name": "stdout",
     "output_type": "stream",
     "text": [
      "'nlp' extra dependecy package 'gensim' isn't installed. Look at README.md in repo 'LightAutoML' for installation instructions.\n",
      "'nlp' extra dependecy package 'nltk' isn't installed. Look at README.md in repo 'LightAutoML' for installation instructions.\n",
      "'nlp' extra dependecy package 'transformers' isn't installed. Look at README.md in repo 'LightAutoML' for installation instructions.\n",
      "'nlp' extra dependecy package 'gensim' isn't installed. Look at README.md in repo 'LightAutoML' for installation instructions.\n",
      "'nlp' extra dependecy package 'nltk' isn't installed. Look at README.md in repo 'LightAutoML' for installation instructions.\n",
      "'nlp' extra dependecy package 'transformers' isn't installed. Look at README.md in repo 'LightAutoML' for installation instructions.\n"
     ]
    },
    {
     "name": "stderr",
     "output_type": "stream",
     "text": [
      "/Library/Frameworks/Python.framework/Versions/3.9/lib/python3.9/site-packages/tqdm/auto.py:21: TqdmWarning: IProgress not found. Please update jupyter and ipywidgets. See https://ipywidgets.readthedocs.io/en/stable/user_install.html\n",
      "  from .autonotebook import tqdm as notebook_tqdm\n",
      "/Library/Frameworks/Python.framework/Versions/3.9/lib/python3.9/site-packages/lightautoml/ml_algo/dl_model.py:42: UserWarning: 'transformers' - package isn't installed\n",
      "  warnings.warn(\"'transformers' - package isn't installed\")\n",
      "/Library/Frameworks/Python.framework/Versions/3.9/lib/python3.9/site-packages/lightautoml/text/embed.py:22: UserWarning: 'transformers' - package isn't installed\n",
      "  warnings.warn(\"'transformers' - package isn't installed\")\n",
      "/Library/Frameworks/Python.framework/Versions/3.9/lib/python3.9/site-packages/lightautoml/text/dl_transformers.py:25: UserWarning: 'transformers' - package isn't installed\n",
      "  warnings.warn(\"'transformers' - package isn't installed\")\n"
     ]
    }
   ],
   "source": [
    "# Standard python libraries\n",
    "import os\n",
    "import time\n",
    "\n",
    "# Essential DS libraries\n",
    "import numpy as np\n",
    "import pandas as pd\n",
    "from sklearn.metrics import mean_absolute_error\n",
    "from sklearn.model_selection import train_test_split\n",
    "import torch\n",
    "\n",
    "# LightAutoML presets, task and report generation\n",
    "from lightautoml.automl.presets.tabular_presets import TabularAutoML\n",
    "from lightautoml.tasks import Task"
   ]
  },
  {
   "cell_type": "markdown",
   "metadata": {},
   "source": [
    "Далее определяем константы (количество потоков, таймаут, имя целевой колонки, размер валидационной выборки и так далее)."
   ]
  },
  {
   "cell_type": "code",
   "execution_count": 2,
   "metadata": {},
   "outputs": [],
   "source": [
    "N_THREADS = 4\n",
    "N_FOLDS = 5\n",
    "RANDOM_STATE = 42\n",
    "TEST_SIZE = 0.2\n",
    "TIMEOUT = 60 # equal to 10 minutes\n",
    "TARGET_NAME = 'final_price'"
   ]
  },
  {
   "cell_type": "markdown",
   "metadata": {},
   "source": [
    "Для максимальной воспроизводимости решения используем команды:"
   ]
  },
  {
   "cell_type": "code",
   "execution_count": 3,
   "metadata": {},
   "outputs": [],
   "source": [
    "np.random.seed(RANDOM_STATE)\n",
    "torch.set_num_threads(N_THREADS)"
   ]
  },
  {
   "cell_type": "markdown",
   "metadata": {},
   "source": [
    "Указываем путь к папке с данными:"
   ]
  },
  {
   "cell_type": "code",
   "execution_count": 4,
   "metadata": {},
   "outputs": [],
   "source": [
    "INPUT_DIR = 'Data/'"
   ]
  },
  {
   "cell_type": "markdown",
   "metadata": {},
   "source": [
    "Загружаем тренировочный датасет (в нём будет 15 колонок):"
   ]
  },
  {
   "cell_type": "code",
   "execution_count": 5,
   "metadata": {},
   "outputs": [
    {
     "name": "stdout",
     "output_type": "stream",
     "text": [
      "(35000, 15)\n"
     ]
    },
    {
     "data": {
      "text/html": [
       "<div>\n",
       "<style scoped>\n",
       "    .dataframe tbody tr th:only-of-type {\n",
       "        vertical-align: middle;\n",
       "    }\n",
       "\n",
       "    .dataframe tbody tr th {\n",
       "        vertical-align: top;\n",
       "    }\n",
       "\n",
       "    .dataframe thead th {\n",
       "        text-align: right;\n",
       "    }\n",
       "</style>\n",
       "<table border=\"1\" class=\"dataframe\">\n",
       "  <thead>\n",
       "    <tr style=\"text-align: right;\">\n",
       "      <th></th>\n",
       "      <th>row_ID</th>\n",
       "      <th>vehicle_manufacturer</th>\n",
       "      <th>vehicle_model</th>\n",
       "      <th>vehicle_category</th>\n",
       "      <th>current_mileage</th>\n",
       "      <th>vehicle_year</th>\n",
       "      <th>vehicle_gearbox_type</th>\n",
       "      <th>doors_cnt</th>\n",
       "      <th>wheels</th>\n",
       "      <th>vehicle_color</th>\n",
       "      <th>vehicle_interior_color</th>\n",
       "      <th>car_vin</th>\n",
       "      <th>car_leather_interior</th>\n",
       "      <th>deal_type</th>\n",
       "      <th>final_price</th>\n",
       "    </tr>\n",
       "  </thead>\n",
       "  <tbody>\n",
       "    <tr>\n",
       "      <th>0</th>\n",
       "      <td>0</td>\n",
       "      <td>TOYOTA</td>\n",
       "      <td>Aqua s</td>\n",
       "      <td>Sedan</td>\n",
       "      <td>133000</td>\n",
       "      <td>2014</td>\n",
       "      <td>Automatic</td>\n",
       "      <td>4/5</td>\n",
       "      <td>Right-hand drive</td>\n",
       "      <td>Silver</td>\n",
       "      <td>Black</td>\n",
       "      <td>NaN</td>\n",
       "      <td>0</td>\n",
       "      <td>For Sale</td>\n",
       "      <td>3650.0</td>\n",
       "    </tr>\n",
       "    <tr>\n",
       "      <th>1</th>\n",
       "      <td>1</td>\n",
       "      <td>MERCEDES-BENZ</td>\n",
       "      <td>C 220</td>\n",
       "      <td>Sedan</td>\n",
       "      <td>24500</td>\n",
       "      <td>2010</td>\n",
       "      <td>Manual</td>\n",
       "      <td>4/5</td>\n",
       "      <td>Left wheel</td>\n",
       "      <td>Silver</td>\n",
       "      <td>Black</td>\n",
       "      <td>NaN</td>\n",
       "      <td>0</td>\n",
       "      <td>For Sale</td>\n",
       "      <td>6800.0</td>\n",
       "    </tr>\n",
       "    <tr>\n",
       "      <th>2</th>\n",
       "      <td>2</td>\n",
       "      <td>HYUNDAI</td>\n",
       "      <td>Veloster</td>\n",
       "      <td>Hatchback</td>\n",
       "      <td>31000</td>\n",
       "      <td>2016</td>\n",
       "      <td>Tiptronic</td>\n",
       "      <td>2/3</td>\n",
       "      <td>Left wheel</td>\n",
       "      <td>Silver</td>\n",
       "      <td>Black</td>\n",
       "      <td>KMHTC6AE3GU293912</td>\n",
       "      <td>1</td>\n",
       "      <td>For Sale</td>\n",
       "      <td>6300.0</td>\n",
       "    </tr>\n",
       "    <tr>\n",
       "      <th>3</th>\n",
       "      <td>3</td>\n",
       "      <td>HYUNDAI</td>\n",
       "      <td>Santa FE</td>\n",
       "      <td>Jeep</td>\n",
       "      <td>115459</td>\n",
       "      <td>2015</td>\n",
       "      <td>Automatic</td>\n",
       "      <td>4/5</td>\n",
       "      <td>Left wheel</td>\n",
       "      <td>Blue</td>\n",
       "      <td>Black</td>\n",
       "      <td>NaN</td>\n",
       "      <td>1</td>\n",
       "      <td>For Sale</td>\n",
       "      <td>14488.0</td>\n",
       "    </tr>\n",
       "    <tr>\n",
       "      <th>4</th>\n",
       "      <td>4</td>\n",
       "      <td>TOYOTA</td>\n",
       "      <td>CHR</td>\n",
       "      <td>Jeep</td>\n",
       "      <td>18950</td>\n",
       "      <td>2019</td>\n",
       "      <td>Automatic</td>\n",
       "      <td>4/5</td>\n",
       "      <td>Left wheel</td>\n",
       "      <td>Black</td>\n",
       "      <td>NaN</td>\n",
       "      <td>JTNKHMBX7K1030253</td>\n",
       "      <td>1</td>\n",
       "      <td>For Sale</td>\n",
       "      <td>5000.0</td>\n",
       "    </tr>\n",
       "  </tbody>\n",
       "</table>\n",
       "</div>"
      ],
      "text/plain": [
       "   row_ID vehicle_manufacturer vehicle_model vehicle_category  \\\n",
       "0       0               TOYOTA        Aqua s            Sedan   \n",
       "1       1        MERCEDES-BENZ         C 220            Sedan   \n",
       "2       2              HYUNDAI      Veloster        Hatchback   \n",
       "3       3              HYUNDAI      Santa FE             Jeep   \n",
       "4       4               TOYOTA           CHR             Jeep   \n",
       "\n",
       "   current_mileage  vehicle_year vehicle_gearbox_type doors_cnt  \\\n",
       "0           133000          2014            Automatic       4/5   \n",
       "1            24500          2010               Manual       4/5   \n",
       "2            31000          2016            Tiptronic       2/3   \n",
       "3           115459          2015            Automatic       4/5   \n",
       "4            18950          2019            Automatic       4/5   \n",
       "\n",
       "                  wheels vehicle_color vehicle_interior_color  \\\n",
       "0    Right-hand drive          Silver                  Black    \n",
       "1           Left wheel         Silver                  Black    \n",
       "2           Left wheel         Silver                  Black    \n",
       "3           Left wheel           Blue                  Black    \n",
       "4           Left wheel          Black                     NaN   \n",
       "\n",
       "               car_vin  car_leather_interior deal_type  final_price  \n",
       "0                  NaN                     0  For Sale       3650.0  \n",
       "1                  NaN                     0  For Sale       6800.0  \n",
       "2   KMHTC6AE3GU293912                      1  For Sale       6300.0  \n",
       "3                  NaN                     1  For Sale      14488.0  \n",
       "4   JTNKHMBX7K1030253                      1  For Sale       5000.0  "
      ]
     },
     "execution_count": 5,
     "metadata": {},
     "output_type": "execute_result"
    }
   ],
   "source": [
    "train_data = pd.read_csv(INPUT_DIR + 'train_data.csv')\n",
    "print(train_data.shape)\n",
    "train_data.head()"
   ]
  },
  {
   "cell_type": "markdown",
   "metadata": {},
   "source": [
    "Загружаем тестовый датасет (в нём будет 14 колонок, без колонки с целевой переменной):"
   ]
  },
  {
   "cell_type": "code",
   "execution_count": 6,
   "metadata": {},
   "outputs": [
    {
     "name": "stdout",
     "output_type": "stream",
     "text": [
      "(10697, 14)\n"
     ]
    },
    {
     "data": {
      "text/html": [
       "<div>\n",
       "<style scoped>\n",
       "    .dataframe tbody tr th:only-of-type {\n",
       "        vertical-align: middle;\n",
       "    }\n",
       "\n",
       "    .dataframe tbody tr th {\n",
       "        vertical-align: top;\n",
       "    }\n",
       "\n",
       "    .dataframe thead th {\n",
       "        text-align: right;\n",
       "    }\n",
       "</style>\n",
       "<table border=\"1\" class=\"dataframe\">\n",
       "  <thead>\n",
       "    <tr style=\"text-align: right;\">\n",
       "      <th></th>\n",
       "      <th>row_ID</th>\n",
       "      <th>vehicle_manufacturer</th>\n",
       "      <th>vehicle_model</th>\n",
       "      <th>vehicle_category</th>\n",
       "      <th>current_mileage</th>\n",
       "      <th>vehicle_year</th>\n",
       "      <th>vehicle_gearbox_type</th>\n",
       "      <th>doors_cnt</th>\n",
       "      <th>wheels</th>\n",
       "      <th>vehicle_color</th>\n",
       "      <th>vehicle_interior_color</th>\n",
       "      <th>car_vin</th>\n",
       "      <th>car_leather_interior</th>\n",
       "      <th>deal_type</th>\n",
       "    </tr>\n",
       "  </thead>\n",
       "  <tbody>\n",
       "    <tr>\n",
       "      <th>0</th>\n",
       "      <td>35000</td>\n",
       "      <td>TOYOTA</td>\n",
       "      <td>Prius</td>\n",
       "      <td>Hatchback</td>\n",
       "      <td>323733</td>\n",
       "      <td>2012</td>\n",
       "      <td>Automatic</td>\n",
       "      <td>4/5</td>\n",
       "      <td>Left wheel</td>\n",
       "      <td>Grey</td>\n",
       "      <td>Black</td>\n",
       "      <td>JTDKN3DU6C5439638</td>\n",
       "      <td>1</td>\n",
       "      <td>For Sale</td>\n",
       "    </tr>\n",
       "    <tr>\n",
       "      <th>1</th>\n",
       "      <td>35001</td>\n",
       "      <td>HYUNDAI</td>\n",
       "      <td>Elantra</td>\n",
       "      <td>Sedan</td>\n",
       "      <td>112000</td>\n",
       "      <td>2013</td>\n",
       "      <td>Tiptronic</td>\n",
       "      <td>4/5</td>\n",
       "      <td>Left wheel</td>\n",
       "      <td>Grey</td>\n",
       "      <td>Black</td>\n",
       "      <td>SURATSHIA</td>\n",
       "      <td>1</td>\n",
       "      <td>For Sale</td>\n",
       "    </tr>\n",
       "    <tr>\n",
       "      <th>2</th>\n",
       "      <td>35002</td>\n",
       "      <td>LEXUS</td>\n",
       "      <td>NX 300</td>\n",
       "      <td>Jeep</td>\n",
       "      <td>16920</td>\n",
       "      <td>2018</td>\n",
       "      <td>Automatic</td>\n",
       "      <td>NaN</td>\n",
       "      <td>Left wheel</td>\n",
       "      <td>Brown</td>\n",
       "      <td>NaN</td>\n",
       "      <td>JTJYARBZ5J2104521</td>\n",
       "      <td>1</td>\n",
       "      <td>For Sale</td>\n",
       "    </tr>\n",
       "    <tr>\n",
       "      <th>3</th>\n",
       "      <td>35003</td>\n",
       "      <td>LEXUS</td>\n",
       "      <td>CT 200h</td>\n",
       "      <td>Hatchback</td>\n",
       "      <td>302742</td>\n",
       "      <td>2012</td>\n",
       "      <td>Automatic</td>\n",
       "      <td>4/5</td>\n",
       "      <td>Left wheel</td>\n",
       "      <td>White</td>\n",
       "      <td>NaN</td>\n",
       "      <td>JTHKD5BH4C2070945</td>\n",
       "      <td>1</td>\n",
       "      <td>For Sale</td>\n",
       "    </tr>\n",
       "    <tr>\n",
       "      <th>4</th>\n",
       "      <td>35004</td>\n",
       "      <td>TOYOTA</td>\n",
       "      <td>RAV 4</td>\n",
       "      <td>Jeep</td>\n",
       "      <td>1800</td>\n",
       "      <td>2002</td>\n",
       "      <td>Manual</td>\n",
       "      <td>4/5</td>\n",
       "      <td>Left wheel</td>\n",
       "      <td>Silver</td>\n",
       "      <td>Black</td>\n",
       "      <td>NaN</td>\n",
       "      <td>0</td>\n",
       "      <td>For Sale</td>\n",
       "    </tr>\n",
       "  </tbody>\n",
       "</table>\n",
       "</div>"
      ],
      "text/plain": [
       "   row_ID vehicle_manufacturer vehicle_model vehicle_category  \\\n",
       "0   35000               TOYOTA         Prius        Hatchback   \n",
       "1   35001              HYUNDAI       Elantra            Sedan   \n",
       "2   35002                LEXUS        NX 300             Jeep   \n",
       "3   35003                LEXUS       CT 200h        Hatchback   \n",
       "4   35004               TOYOTA         RAV 4             Jeep   \n",
       "\n",
       "   current_mileage  vehicle_year vehicle_gearbox_type doors_cnt  \\\n",
       "0           323733          2012            Automatic       4/5   \n",
       "1           112000          2013            Tiptronic       4/5   \n",
       "2            16920          2018            Automatic       NaN   \n",
       "3           302742          2012            Automatic       4/5   \n",
       "4             1800          2002               Manual       4/5   \n",
       "\n",
       "           wheels vehicle_color vehicle_interior_color              car_vin  \\\n",
       "0    Left wheel           Grey                  Black    JTDKN3DU6C5439638    \n",
       "1    Left wheel           Grey                  Black            SURATSHIA    \n",
       "2    Left wheel          Brown                     NaN   JTJYARBZ5J2104521    \n",
       "3    Left wheel          White                     NaN   JTHKD5BH4C2070945    \n",
       "4    Left wheel         Silver                  Black                   NaN   \n",
       "\n",
       "   car_leather_interior deal_type  \n",
       "0                     1  For Sale  \n",
       "1                     1  For Sale  \n",
       "2                     1  For Sale  \n",
       "3                     1  For Sale  \n",
       "4                     0  For Sale  "
      ]
     },
     "execution_count": 6,
     "metadata": {},
     "output_type": "execute_result"
    }
   ],
   "source": [
    "test_data = pd.read_csv(INPUT_DIR + 'test_data.csv')\n",
    "print(test_data.shape)\n",
    "test_data.head()"
   ]
  },
  {
   "cell_type": "markdown",
   "metadata": {},
   "source": [
    "Загружаем шаблон сабмита (по количеству строк совпадает с тестовыми данными):"
   ]
  },
  {
   "cell_type": "code",
   "execution_count": 7,
   "metadata": {},
   "outputs": [
    {
     "name": "stdout",
     "output_type": "stream",
     "text": [
      "(10697, 2)\n"
     ]
    },
    {
     "data": {
      "text/html": [
       "<div>\n",
       "<style scoped>\n",
       "    .dataframe tbody tr th:only-of-type {\n",
       "        vertical-align: middle;\n",
       "    }\n",
       "\n",
       "    .dataframe tbody tr th {\n",
       "        vertical-align: top;\n",
       "    }\n",
       "\n",
       "    .dataframe thead th {\n",
       "        text-align: right;\n",
       "    }\n",
       "</style>\n",
       "<table border=\"1\" class=\"dataframe\">\n",
       "  <thead>\n",
       "    <tr style=\"text-align: right;\">\n",
       "      <th></th>\n",
       "      <th>row_ID</th>\n",
       "      <th>final_price</th>\n",
       "    </tr>\n",
       "  </thead>\n",
       "  <tbody>\n",
       "    <tr>\n",
       "      <th>0</th>\n",
       "      <td>35000</td>\n",
       "      <td>0</td>\n",
       "    </tr>\n",
       "    <tr>\n",
       "      <th>1</th>\n",
       "      <td>35001</td>\n",
       "      <td>0</td>\n",
       "    </tr>\n",
       "    <tr>\n",
       "      <th>2</th>\n",
       "      <td>35002</td>\n",
       "      <td>0</td>\n",
       "    </tr>\n",
       "    <tr>\n",
       "      <th>3</th>\n",
       "      <td>35003</td>\n",
       "      <td>0</td>\n",
       "    </tr>\n",
       "    <tr>\n",
       "      <th>4</th>\n",
       "      <td>35004</td>\n",
       "      <td>0</td>\n",
       "    </tr>\n",
       "  </tbody>\n",
       "</table>\n",
       "</div>"
      ],
      "text/plain": [
       "   row_ID  final_price\n",
       "0   35000            0\n",
       "1   35001            0\n",
       "2   35002            0\n",
       "3   35003            0\n",
       "4   35004            0"
      ]
     },
     "execution_count": 7,
     "metadata": {},
     "output_type": "execute_result"
    }
   ],
   "source": [
    "submission = pd.read_csv(INPUT_DIR + 'sample_submission.csv')\n",
    "print(submission.shape)\n",
    "submission.head()"
   ]
  },
  {
   "cell_type": "markdown",
   "metadata": {},
   "source": [
    "Далее в бейзлайне идёт небольшая заготовка для генерации дополнительных признаков."
   ]
  },
  {
   "cell_type": "code",
   "execution_count": 8,
   "metadata": {},
   "outputs": [
    {
     "name": "stdout",
     "output_type": "stream",
     "text": [
      "CPU times: user 17 µs, sys: 1e+03 ns, total: 18 µs\n",
      "Wall time: 21 µs\n"
     ]
    }
   ],
   "source": [
    "%%time\n",
    "\n",
    "def create_expert_feats(data):\n",
    "    pass\n",
    "\n",
    "create_expert_feats(train_data)\n",
    "create_expert_feats(test_data)"
   ]
  },
  {
   "cell_type": "markdown",
   "metadata": {},
   "source": [
    "Последний пункт подготовительного этапа нашей работы — разбиение на тренировочную (80 %, tr_data) и валидационную (20 %, te_data) выборки. "
   ]
  },
  {
   "cell_type": "code",
   "execution_count": 9,
   "metadata": {},
   "outputs": [
    {
     "data": {
      "text/plain": [
       "'Data splitted. Parts sizes: tr_data = (28000, 15), te_data = (7000, 15)'"
      ]
     },
     "metadata": {},
     "output_type": "display_data"
    },
    {
     "data": {
      "text/html": [
       "<div>\n",
       "<style scoped>\n",
       "    .dataframe tbody tr th:only-of-type {\n",
       "        vertical-align: middle;\n",
       "    }\n",
       "\n",
       "    .dataframe tbody tr th {\n",
       "        vertical-align: top;\n",
       "    }\n",
       "\n",
       "    .dataframe thead th {\n",
       "        text-align: right;\n",
       "    }\n",
       "</style>\n",
       "<table border=\"1\" class=\"dataframe\">\n",
       "  <thead>\n",
       "    <tr style=\"text-align: right;\">\n",
       "      <th></th>\n",
       "      <th>row_ID</th>\n",
       "      <th>vehicle_manufacturer</th>\n",
       "      <th>vehicle_model</th>\n",
       "      <th>vehicle_category</th>\n",
       "      <th>current_mileage</th>\n",
       "      <th>vehicle_year</th>\n",
       "      <th>vehicle_gearbox_type</th>\n",
       "      <th>doors_cnt</th>\n",
       "      <th>wheels</th>\n",
       "      <th>vehicle_color</th>\n",
       "      <th>vehicle_interior_color</th>\n",
       "      <th>car_vin</th>\n",
       "      <th>car_leather_interior</th>\n",
       "      <th>deal_type</th>\n",
       "      <th>final_price</th>\n",
       "    </tr>\n",
       "  </thead>\n",
       "  <tbody>\n",
       "    <tr>\n",
       "      <th>18788</th>\n",
       "      <td>18788</td>\n",
       "      <td>HYUNDAI</td>\n",
       "      <td>Santa FE</td>\n",
       "      <td>Jeep</td>\n",
       "      <td>177719</td>\n",
       "      <td>2010</td>\n",
       "      <td>Automatic</td>\n",
       "      <td>4/5</td>\n",
       "      <td>Left wheel</td>\n",
       "      <td>Silver</td>\n",
       "      <td>Black</td>\n",
       "      <td>NaN</td>\n",
       "      <td>1</td>\n",
       "      <td>For Sale</td>\n",
       "      <td>7464.0</td>\n",
       "    </tr>\n",
       "    <tr>\n",
       "      <th>776</th>\n",
       "      <td>776</td>\n",
       "      <td>HYUNDAI</td>\n",
       "      <td>Santa FE</td>\n",
       "      <td>Jeep</td>\n",
       "      <td>143166</td>\n",
       "      <td>2011</td>\n",
       "      <td>Automatic</td>\n",
       "      <td>4/5</td>\n",
       "      <td>Left wheel</td>\n",
       "      <td>Grey</td>\n",
       "      <td>Black</td>\n",
       "      <td>NaN</td>\n",
       "      <td>1</td>\n",
       "      <td>For Sale</td>\n",
       "      <td>5959.0</td>\n",
       "    </tr>\n",
       "    <tr>\n",
       "      <th>480</th>\n",
       "      <td>480</td>\n",
       "      <td>BMW</td>\n",
       "      <td>X5 XDRIVE35 D</td>\n",
       "      <td>Jeep</td>\n",
       "      <td>149000</td>\n",
       "      <td>2015</td>\n",
       "      <td>Tiptronic</td>\n",
       "      <td>4/5</td>\n",
       "      <td>Left wheel</td>\n",
       "      <td>Black</td>\n",
       "      <td>Black</td>\n",
       "      <td>NaN</td>\n",
       "      <td>1</td>\n",
       "      <td>For Sale</td>\n",
       "      <td>23900.0</td>\n",
       "    </tr>\n",
       "    <tr>\n",
       "      <th>30078</th>\n",
       "      <td>30078</td>\n",
       "      <td>CHRYSLER</td>\n",
       "      <td>300</td>\n",
       "      <td>Sedan</td>\n",
       "      <td>133904</td>\n",
       "      <td>2014</td>\n",
       "      <td>Automatic</td>\n",
       "      <td>4/5</td>\n",
       "      <td>Left wheel</td>\n",
       "      <td>Silver</td>\n",
       "      <td>Black</td>\n",
       "      <td>NaN</td>\n",
       "      <td>1</td>\n",
       "      <td>For Sale</td>\n",
       "      <td>1750.0</td>\n",
       "    </tr>\n",
       "    <tr>\n",
       "      <th>29115</th>\n",
       "      <td>29115</td>\n",
       "      <td>TOYOTA</td>\n",
       "      <td>4Runner</td>\n",
       "      <td>Jeep</td>\n",
       "      <td>0</td>\n",
       "      <td>2018</td>\n",
       "      <td>Automatic</td>\n",
       "      <td>4/5</td>\n",
       "      <td>Left wheel</td>\n",
       "      <td>Black</td>\n",
       "      <td>Black</td>\n",
       "      <td>NaN</td>\n",
       "      <td>1</td>\n",
       "      <td>For Sale</td>\n",
       "      <td>100.0</td>\n",
       "    </tr>\n",
       "  </tbody>\n",
       "</table>\n",
       "</div>"
      ],
      "text/plain": [
       "       row_ID vehicle_manufacturer   vehicle_model vehicle_category  \\\n",
       "18788   18788              HYUNDAI        Santa FE             Jeep   \n",
       "776       776              HYUNDAI        Santa FE             Jeep   \n",
       "480       480                  BMW  X5 XDRIVE35 D              Jeep   \n",
       "30078   30078             CHRYSLER             300            Sedan   \n",
       "29115   29115               TOYOTA         4Runner             Jeep   \n",
       "\n",
       "       current_mileage  vehicle_year vehicle_gearbox_type doors_cnt  \\\n",
       "18788           177719          2010            Automatic       4/5   \n",
       "776             143166          2011            Automatic       4/5   \n",
       "480             149000          2015            Tiptronic       4/5   \n",
       "30078           133904          2014            Automatic       4/5   \n",
       "29115                0          2018            Automatic       4/5   \n",
       "\n",
       "               wheels vehicle_color vehicle_interior_color car_vin  \\\n",
       "18788    Left wheel         Silver                  Black      NaN   \n",
       "776      Left wheel           Grey                  Black      NaN   \n",
       "480      Left wheel          Black                  Black      NaN   \n",
       "30078    Left wheel         Silver                  Black      NaN   \n",
       "29115    Left wheel          Black                  Black      NaN   \n",
       "\n",
       "       car_leather_interior deal_type  final_price  \n",
       "18788                     1  For Sale       7464.0  \n",
       "776                       1  For Sale       5959.0  \n",
       "480                       1  For Sale      23900.0  \n",
       "30078                     1  For Sale       1750.0  \n",
       "29115                     1  For Sale        100.0  "
      ]
     },
     "execution_count": 9,
     "metadata": {},
     "output_type": "execute_result"
    }
   ],
   "source": [
    "tr_data, te_data = train_test_split(\n",
    "    train_data, \n",
    "    test_size=TEST_SIZE,\n",
    "    random_state=RANDOM_STATE\n",
    ")\n",
    "\n",
    "display(f'Data splitted. Parts sizes: tr_data = {tr_data.shape}, te_data = {te_data.shape}')\n",
    "\n",
    "tr_data.head()"
   ]
  },
  {
   "cell_type": "markdown",
   "metadata": {},
   "source": [
    "28 000 строк отойдут в тренировочную выборку, 7 000 — в валидационную."
   ]
  },
  {
   "cell_type": "markdown",
   "metadata": {},
   "source": [
    "Первым делом нам необходимо определить, какую именно задачу нужно решить. Для этого в библиотеке LAMA используется объект TASK, который мы определили на подготовительном этапе."
   ]
  },
  {
   "cell_type": "code",
   "execution_count": 10,
   "metadata": {},
   "outputs": [],
   "source": [
    "task = Task('reg', loss = 'mse', metric = 'mse')"
   ]
  },
  {
   "cell_type": "markdown",
   "metadata": {},
   "source": [
    "Далее необходимо указать роли переменных: сказать библиотеке, какая колонка является целевой. Кроме того, укажем на то, что колонку row_ID можно опустить."
   ]
  },
  {
   "cell_type": "code",
   "execution_count": 11,
   "metadata": {},
   "outputs": [],
   "source": [
    "roles = {\n",
    "    'target': TARGET_NAME,\n",
    "    'drop': ['row_ID']\n",
    "}"
   ]
  },
  {
   "cell_type": "markdown",
   "metadata": {},
   "source": [
    "И, наконец, создаём модель LightAutoML. Мы сделаем это при помощи класса TabularAutoML.\n",
    "\n",
    "Класс TabularAutoML обладает следующими параметрами: \n",
    "\n",
    "* task — тип задачи (обязательный);\n",
    "* timeout — ограничение по времени для тренировки;\n",
    "* cpu_limit — ограничение по объёму CPU;\n",
    "* reader_params — параметр объекта Reader, регулирующий чтение данных, например n_jobs, random_state.\n",
    "\n",
    "Примечание: Мы не делали никаких манипуляций с датасетами: не очищали данные от пропусков, не удаляли дубликаты и так далее. LAMA это делает за нас!"
   ]
  },
  {
   "cell_type": "markdown",
   "metadata": {},
   "source": [
    "Следующий этап — обучение тренировочной выборки.\n",
    "\n",
    "Для этого используем метод fit_predict. \n",
    "\n",
    "Этот метод принимает три аргумента: \n",
    "\n",
    "* train_data — датасет для обучения (тренировочная выборка);\n",
    "* roles — роли переменных (мы их уже определили);\n",
    "* verbose — уровень детальности логирования (чем больше число, тем детальнее)."
   ]
  },
  {
   "cell_type": "markdown",
   "metadata": {},
   "source": [
    "### Создание модели"
   ]
  },
  {
   "cell_type": "code",
   "execution_count": 12,
   "metadata": {},
   "outputs": [],
   "source": [
    "automl = TabularAutoML(\n",
    "    task = task, \n",
    "    timeout = TIMEOUT,\n",
    "    cpu_limit = N_THREADS,\n",
    "    reader_params = {'n_jobs': N_THREADS, 'cv': N_FOLDS, 'random_state': RANDOM_STATE}\n",
    ")"
   ]
  },
  {
   "cell_type": "markdown",
   "metadata": {},
   "source": [
    "### Тренировка модели"
   ]
  },
  {
   "cell_type": "code",
   "execution_count": 14,
   "metadata": {},
   "outputs": [
    {
     "name": "stdout",
     "output_type": "stream",
     "text": [
      "[23:08:33] Stdout logging level is INFO.\n",
      "[23:08:33] Copying TaskTimer may affect the parent PipelineTimer, so copy will create new unlimited TaskTimer\n",
      "[23:08:33] Task: reg\n",
      "\n",
      "[23:08:33] Start automl preset with listed constraints:\n",
      "[23:08:33] - time: 60.00 seconds\n",
      "[23:08:33] - CPU: 4 cores\n",
      "[23:08:33] - memory: 16 GB\n",
      "\n",
      "[23:08:33] \u001b[1mTrain data shape: (28000, 15)\u001b[0m\n",
      "\n",
      "[23:08:44] Layer \u001b[1m1\u001b[0m train process start. Time left 48.95 secs\n",
      "[23:08:45] Start fitting \u001b[1mLvl_0_Pipe_0_Mod_0_LinearL2\u001b[0m ...\n",
      "[23:08:47] Time limit exceeded after calculating fold 1\n",
      "\n",
      "[23:08:47] Fitting \u001b[1mLvl_0_Pipe_0_Mod_0_LinearL2\u001b[0m finished. score = \u001b[1m-6300012352.069129\u001b[0m\n",
      "[23:08:47] \u001b[1mLvl_0_Pipe_0_Mod_0_LinearL2\u001b[0m fitting and predicting completed\n",
      "[23:08:47] Time left 45.58 secs\n",
      "\n",
      "[23:08:47] \u001b[1mSelector_LightGBM\u001b[0m fitting and predicting completed\n",
      "[23:08:49] Start fitting \u001b[1mLvl_0_Pipe_1_Mod_0_LightGBM\u001b[0m ...\n"
     ]
    }
   ],
   "source": [
    "%%time\n",
    "\n",
    "oof_pred = automl.fit_predict(tr_data, roles = roles, verbose = 1)"
   ]
  },
  {
   "cell_type": "markdown",
   "metadata": {},
   "source": [
    "В выводе на экран вы увидите подробную информацию о процессе построения модели, её описание вместе с out-of-fold-предсказанием (предсказанием на весь train_data, переменная oof_pred). При предсказании LAMA использует кросс-валидацию.\n",
    "\n",
    "Можно дополнительно прописать вывод окончательного описания модели:"
   ]
  },
  {
   "cell_type": "code",
   "execution_count": null,
   "metadata": {},
   "outputs": [],
   "source": [
    "display(automl.create_model_str_desc())"
   ]
  },
  {
   "cell_type": "markdown",
   "metadata": {},
   "source": [
    "Следующий этап — обучение валидационной выборки. \n",
    "\n",
    "Для этого необходимо выполнить функцию automl_predict, передав ей на вход валидационные данные (te_data). Результаты передаются в переменную te_pred."
   ]
  },
  {
   "cell_type": "code",
   "execution_count": null,
   "metadata": {},
   "outputs": [],
   "source": [
    "%%time\n",
    "\n",
    "te_pred = automl.predict(te_data)\n",
    "display(f'Prediction for te_data:\\n{te_pred}\\nShape = {te_pred.shape}')"
   ]
  },
  {
   "cell_type": "markdown",
   "metadata": {},
   "source": [
    "Измеряем качество модели, сравнивая MAE на тренировочной и валидационной выборках:"
   ]
  },
  {
   "cell_type": "code",
   "execution_count": null,
   "metadata": {},
   "outputs": [],
   "source": [
    "display(f'TRAIN out-of-fold score: {mean_absolute_error(tr_data[TARGET_NAME].values, oof_pred.data[:, 0])}')\n",
    "display(f'HOLDOUT score: {mean_absolute_error(te_data[TARGET_NAME].values, te_pred.data[:, 0])}')"
   ]
  },
  {
   "cell_type": "markdown",
   "metadata": {},
   "source": [
    "Чтобы узнать, какие признаки повлияли на полученные предсказания, внутри библиотеки LAMA реализовано несколько методов, например fast и accurate. Эти методы помогают оценить, насколько хорошо или плохо влияет тот или иной признак на построение модели. \n",
    "\n",
    "Метод fast вызовем от автообученной модели automl, передавая на вход параметр fast."
   ]
  },
  {
   "cell_type": "code",
   "execution_count": null,
   "metadata": {},
   "outputs": [],
   "source": [
    "%%time\n",
    "\n",
    "# Fast feature importances calculation\n",
    "fast_fi = automl.get_feature_scores('fast')\n",
    "fast_fi.set_index('Feature')['Importance'].plot.bar(figsize = (30, 10), grid = True)"
   ]
  },
  {
   "cell_type": "markdown",
   "metadata": {},
   "source": [
    "Видно, что наибольшее влияние на стоимость оказывает год производства автомобиля. Далее идут пробег, количество дверей, наименование модели и так далее. \n",
    "\n",
    "Проведём оценку при помощи метода accurate."
   ]
  },
  {
   "cell_type": "code",
   "execution_count": null,
   "metadata": {},
   "outputs": [],
   "source": [
    "%%time\n",
    "\n",
    "# Accurate feature importances calculation (Permutation importances) -  can take long time to calculate on bigger datasets\n",
    "accurate_fi = automl.get_feature_scores('accurate', te_data, silent = False)"
   ]
  },
  {
   "cell_type": "markdown",
   "metadata": {},
   "source": [
    "Отобразим на графике:"
   ]
  },
  {
   "cell_type": "code",
   "execution_count": null,
   "metadata": {},
   "outputs": [],
   "source": [
    "accurate_fi.set_index('Feature')['Importance'].plot.bar(figsize = (30, 10), grid = True)"
   ]
  },
  {
   "cell_type": "markdown",
   "metadata": {},
   "source": [
    "Порядок признаков поменялся, при этом достаточно важными остались и модель автомобиля, и год производства, и тип коробки передач. \n",
    "\n",
    "Судя по этим оценкам, результаты модели коррелируют со здравым смыслом. \n",
    "\n",
    "Следующий этап — предсказание на тестовых данных. Для этого снова запускаем функцию automl.predict, передав ей тестовый набор данных test_data."
   ]
  },
  {
   "cell_type": "code",
   "execution_count": null,
   "metadata": {},
   "outputs": [],
   "source": [
    "test_pred = automl.predict(test_data)\n",
    "display(f'Prediction for te_data:\\n{test_pred}\\nShape = {test_pred.shape}')"
   ]
  },
  {
   "cell_type": "markdown",
   "metadata": {},
   "source": [
    "Готовим сабмит, не сохраняя индекс:"
   ]
  },
  {
   "cell_type": "code",
   "execution_count": null,
   "metadata": {},
   "outputs": [],
   "source": [
    "submission[TARGET_NAME] = test_pred.data[:, 0]\n",
    "submission.to_csv('my_submission.csv', index = False)"
   ]
  },
  {
   "cell_type": "markdown",
   "metadata": {},
   "source": [
    "### Результат"
   ]
  },
  {
   "cell_type": "code",
   "execution_count": null,
   "metadata": {},
   "outputs": [],
   "source": [
    "result = pd.read_csv('Data/my_submission.csv')\n",
    "display(result)"
   ]
  }
 ],
 "metadata": {
  "kernelspec": {
   "display_name": "Python 3",
   "language": "python",
   "name": "python3"
  },
  "language_info": {
   "codemirror_mode": {
    "name": "ipython",
    "version": 3
   },
   "file_extension": ".py",
   "mimetype": "text/x-python",
   "name": "python",
   "nbconvert_exporter": "python",
   "pygments_lexer": "ipython3",
   "version": "3.9.13"
  }
 },
 "nbformat": 4,
 "nbformat_minor": 2
}
